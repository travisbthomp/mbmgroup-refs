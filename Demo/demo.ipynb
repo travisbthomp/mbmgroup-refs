{
 "metadata": {
  "language_info": {
   "codemirror_mode": {
    "name": "ipython",
    "version": 3
   },
   "file_extension": ".py",
   "mimetype": "text/x-python",
   "name": "python",
   "nbconvert_exporter": "python",
   "pygments_lexer": "ipython3",
   "version": "3.7.3-final"
  },
  "orig_nbformat": 2,
  "kernelspec": {
   "name": "python_defaultSpec_1594993605025",
   "display_name": "Python 3.7.3 64-bit ('env': venv)"
  }
 },
 "nbformat": 4,
 "nbformat_minor": 2,
 "cells": [
  {
   "cell_type": "markdown",
   "metadata": {},
   "source": [
    "# Demonstration of Connectome Pipeline\n",
    "\n",
    "This notebook will illustrate the analysis pipeline implemented by this software package, as well as demonstrating some of it's core features."
   ]
  },
  {
   "cell_type": "code",
   "execution_count": 1,
   "metadata": {},
   "outputs": [],
   "source": [
    "from Main.Connectome import Connectome"
   ]
  },
  {
   "cell_type": "code",
   "execution_count": 2,
   "metadata": {},
   "outputs": [],
   "source": [
    "graph_path = '/Volumes/Pavan_SSD/Connectome_atrophy/Development/mbmgroup-refs/Data/master_graphs_highres/33-master/master-std33-highres.graphml'\n",
    "connectome = Connectome(filename = graph_path)"
   ]
  },
  {
   "cell_type": "code",
   "execution_count": 3,
   "metadata": {},
   "outputs": [],
   "source": [
    "connectome.build_graph_graphml(csv_outfile='/Users/pavanchaggar/Desktop/csv_output.csv')"
   ]
  },
  {
   "cell_type": "code",
   "execution_count": 15,
   "metadata": {},
   "outputs": [],
   "source": [
    "parcel_path = connectome.parcellated_graph_path\n",
    "parcel = Connectome(filename = parcel_path)"
   ]
  },
  {
   "cell_type": "code",
   "execution_count": 16,
   "metadata": {},
   "outputs": [],
   "source": [
    "parcel.build_graph_graphml(csv_outfile='/Users/pavanchaggar/Desktop/csv_output1.csv')"
   ]
  },
  {
   "cell_type": "code",
   "execution_count": 20,
   "metadata": {},
   "outputs": [
    {
     "output_type": "execute_result",
     "data": {
      "text/plain": "array([['1', 'rh.lateralorbitofrontal'],\n       ['2', 'rh.parsorbitalis'],\n       ['3', 'rh.frontalpole'],\n       ['4', 'rh.medialorbitofrontal'],\n       ['5', 'rh.parstriangularis'],\n       ['6', 'rh.parsopercularis'],\n       ['7', 'rh.rostralmiddlefrontal'],\n       ['8', 'rh.superiorfrontal'],\n       ['9', 'rh.caudalmiddlefrontal'],\n       ['10', 'rh.precentral'],\n       ['11', 'rh.paracentral'],\n       ['12', 'rh.rostralanteriorcingulate'],\n       ['13', 'rh.caudalanteriorcingulate'],\n       ['14', 'rh.posteriorcingulate'],\n       ['15', 'rh.isthmuscingulate'],\n       ['16', 'rh.postcentral'],\n       ['17', 'rh.supramarginal'],\n       ['18', 'rh.superiorparietal'],\n       ['19', 'rh.inferiorparietal'],\n       ['20', 'rh.precuneus'],\n       ['21', 'rh.cuneus'],\n       ['22', 'rh.pericalcarine'],\n       ['23', 'rh.lateraloccipital'],\n       ['24', 'rh.lingual'],\n       ['25', 'rh.fusiform'],\n       ['26', 'rh.parahippocampal'],\n       ['27', 'rh.entorhinal'],\n       ['28', 'rh.temporalpole'],\n       ['29', 'rh.inferiortemporal'],\n       ['30', 'rh.middletemporal'],\n       ['31', 'rh.bankssts'],\n       ['32', 'rh.superiortemporal'],\n       ['33', 'rh.transversetemporal'],\n       ['34', 'rh.insula'],\n       ['35', 'Right-Thalamus-Proper'],\n       ['36', 'Right-Caudate'],\n       ['37', 'Right-Putamen'],\n       ['38', 'Right-Pallidum'],\n       ['39', 'Right-Accumbens-area'],\n       ['40', 'Right-Hippocampus'],\n       ['41', 'Right-Amygdala'],\n       ['42', 'lh.lateralorbitofrontal'],\n       ['43', 'lh.parsorbitalis'],\n       ['44', 'lh.frontalpole'],\n       ['45', 'lh.medialorbitofrontal'],\n       ['46', 'lh.parstriangularis'],\n       ['47', 'lh.parsopercularis'],\n       ['48', 'lh.rostralmiddlefrontal'],\n       ['49', 'lh.superiorfrontal'],\n       ['50', 'lh.caudalmiddlefrontal'],\n       ['51', 'lh.precentral'],\n       ['52', 'lh.paracentral'],\n       ['53', 'lh.rostralanteriorcingulate'],\n       ['54', 'lh.caudalanteriorcingulate'],\n       ['55', 'lh.posteriorcingulate'],\n       ['56', 'lh.isthmuscingulate'],\n       ['57', 'lh.postcentral'],\n       ['58', 'lh.supramarginal'],\n       ['59', 'lh.superiorparietal'],\n       ['60', 'lh.inferiorparietal'],\n       ['61', 'lh.precuneus'],\n       ['62', 'lh.cuneus'],\n       ['63', 'lh.pericalcarine'],\n       ['64', 'lh.lateraloccipital'],\n       ['65', 'lh.lingual'],\n       ['66', 'lh.fusiform'],\n       ['67', 'lh.parahippocampal'],\n       ['68', 'lh.entorhinal'],\n       ['69', 'lh.temporalpole'],\n       ['70', 'lh.inferiortemporal'],\n       ['71', 'lh.middletemporal'],\n       ['72', 'lh.bankssts'],\n       ['73', 'lh.superiortemporal'],\n       ['74', 'lh.transversetemporal'],\n       ['75', 'lh.insula'],\n       ['76', 'Left-Thalamus-Proper'],\n       ['77', 'Left-Caudate'],\n       ['78', 'Left-Putamen'],\n       ['79', 'Left-Pallidum'],\n       ['80', 'Left-Accumbens-area'],\n       ['81', 'Left-Hippocampus'],\n       ['82', 'Left-Amygdala'],\n       ['83', 'Brain-Stem']], dtype='<U32')"
     },
     "metadata": {},
     "execution_count": 20
    }
   ],
   "source": [
    "connectome.node_id"
   ]
  },
  {
   "cell_type": "code",
   "execution_count": 18,
   "metadata": {},
   "outputs": [
    {
     "output_type": "execute_result",
     "data": {
      "text/plain": "    ID                    Label                    x                   y  \\\n0    1  rh.lateralorbitofrontal   25.005746536685482    33.4624935864546   \n1    2         rh.parsorbitalis    43.78909196402668  41.465912387583415   \n2    3           rh.frontalpole    9.595789473684206   67.34421052631579   \n3    4   rh.medialorbitofrontal   5.7989974937343325   40.73834586466165   \n4    5      rh.parstriangularis    48.39928839691638   31.85550504052185   \n..  ..                      ...                  ...                 ...   \n78  79            Left-Pallidum   -20.29076396807298  -5.292664386164958   \n79  80      Left-Accumbens-area   -8.141025641025635  11.415954415954413   \n80  81         Left-Hippocampus   -25.50008382229673  -22.66219614417434   \n81  82            Left-Amygdala   -22.71827057182707  -5.119944211994422   \n82  83               Brain-Stem  -6.0779644198738385  -31.50152385002481   \n\n                       z  \n0     -16.65079527963058  \n1    -11.845082680591814  \n2     -8.942105263157899  \n3    -15.716624895572266  \n4      5.604269618501675  \n..                   ...  \n78  -0.09730140630938422  \n79    -6.320512820512817  \n80   -13.692372170997489  \n81    -18.83635518363552  \n82   -32.853923027854556  \n\n[83 rows x 5 columns]",
      "text/html": "<div>\n<style scoped>\n    .dataframe tbody tr th:only-of-type {\n        vertical-align: middle;\n    }\n\n    .dataframe tbody tr th {\n        vertical-align: top;\n    }\n\n    .dataframe thead th {\n        text-align: right;\n    }\n</style>\n<table border=\"1\" class=\"dataframe\">\n  <thead>\n    <tr style=\"text-align: right;\">\n      <th></th>\n      <th>ID</th>\n      <th>Label</th>\n      <th>x</th>\n      <th>y</th>\n      <th>z</th>\n    </tr>\n  </thead>\n  <tbody>\n    <tr>\n      <th>0</th>\n      <td>1</td>\n      <td>rh.lateralorbitofrontal</td>\n      <td>25.005746536685482</td>\n      <td>33.4624935864546</td>\n      <td>-16.65079527963058</td>\n    </tr>\n    <tr>\n      <th>1</th>\n      <td>2</td>\n      <td>rh.parsorbitalis</td>\n      <td>43.78909196402668</td>\n      <td>41.465912387583415</td>\n      <td>-11.845082680591814</td>\n    </tr>\n    <tr>\n      <th>2</th>\n      <td>3</td>\n      <td>rh.frontalpole</td>\n      <td>9.595789473684206</td>\n      <td>67.34421052631579</td>\n      <td>-8.942105263157899</td>\n    </tr>\n    <tr>\n      <th>3</th>\n      <td>4</td>\n      <td>rh.medialorbitofrontal</td>\n      <td>5.7989974937343325</td>\n      <td>40.73834586466165</td>\n      <td>-15.716624895572266</td>\n    </tr>\n    <tr>\n      <th>4</th>\n      <td>5</td>\n      <td>rh.parstriangularis</td>\n      <td>48.39928839691638</td>\n      <td>31.85550504052185</td>\n      <td>5.604269618501675</td>\n    </tr>\n    <tr>\n      <th>...</th>\n      <td>...</td>\n      <td>...</td>\n      <td>...</td>\n      <td>...</td>\n      <td>...</td>\n    </tr>\n    <tr>\n      <th>78</th>\n      <td>79</td>\n      <td>Left-Pallidum</td>\n      <td>-20.29076396807298</td>\n      <td>-5.292664386164958</td>\n      <td>-0.09730140630938422</td>\n    </tr>\n    <tr>\n      <th>79</th>\n      <td>80</td>\n      <td>Left-Accumbens-area</td>\n      <td>-8.141025641025635</td>\n      <td>11.415954415954413</td>\n      <td>-6.320512820512817</td>\n    </tr>\n    <tr>\n      <th>80</th>\n      <td>81</td>\n      <td>Left-Hippocampus</td>\n      <td>-25.50008382229673</td>\n      <td>-22.66219614417434</td>\n      <td>-13.692372170997489</td>\n    </tr>\n    <tr>\n      <th>81</th>\n      <td>82</td>\n      <td>Left-Amygdala</td>\n      <td>-22.71827057182707</td>\n      <td>-5.119944211994422</td>\n      <td>-18.83635518363552</td>\n    </tr>\n    <tr>\n      <th>82</th>\n      <td>83</td>\n      <td>Brain-Stem</td>\n      <td>-6.0779644198738385</td>\n      <td>-31.50152385002481</td>\n      <td>-32.853923027854556</td>\n    </tr>\n  </tbody>\n</table>\n<p>83 rows × 5 columns</p>\n</div>"
     },
     "metadata": {},
     "execution_count": 18
    }
   ],
   "source": [
    "connectome.graphml_data"
   ]
  },
  {
   "cell_type": "code",
   "execution_count": null,
   "metadata": {},
   "outputs": [],
   "source": []
  }
 ]
}